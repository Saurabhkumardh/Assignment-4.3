{
  "nbformat": 4,
  "nbformat_minor": 0,
  "metadata": {
    "colab": {
      "provenance": []
    },
    "kernelspec": {
      "name": "python3",
      "display_name": "Python 3"
    },
    "language_info": {
      "name": "python"
    }
  },
  "cells": [
    {
      "cell_type": "markdown",
      "source": [
        "Question 1"
      ],
      "metadata": {
        "id": "ix4sEPEADBdw"
      }
    },
    {
      "cell_type": "markdown",
      "source": [
        "\n",
        "Abstraction in object-oriented programming (OOP) is a concept that focuses on hiding the implementation details of a class and only showing the necessary features of an object to the outside world\n"
      ],
      "metadata": {
        "id": "_U132HR8DvSG"
      }
    },
    {
      "cell_type": "code",
      "source": [
        "from abc import ABC, abstractmethod\n",
        "\n",
        "class Shape(ABC):\n",
        "    @abstractmethod\n",
        "    def area(self):\n",
        "        pass\n",
        "\n",
        "class Rectangle(Shape):\n",
        "    def __init__(self, width, height):\n",
        "        self.width = width\n",
        "        self.height = height\n",
        "\n",
        "    def area(self):\n",
        "        return self.width * self.height\n",
        "\n",
        "class Circle(Shape):\n",
        "    def __init__(self, radius):\n",
        "        self.radius = radius\n",
        "\n",
        "    def area(self):\n",
        "        return 3.14 * self.radius * self.radius\n",
        "\n",
        "# Usage\n",
        "rectangle = Rectangle(5, 4)\n",
        "print(\"Area of Rectangle:\", rectangle.area())\n",
        "\n",
        "circle = Circle(3)\n",
        "print(\"Area of Circle:\", circle.area())\n"
      ],
      "metadata": {
        "id": "1E_jrM-QDECX"
      },
      "execution_count": null,
      "outputs": []
    },
    {
      "cell_type": "markdown",
      "source": [
        "Question 2"
      ],
      "metadata": {
        "id": "hcckpe9iDEjF"
      }
    },
    {
      "cell_type": "markdown",
      "source": [
        "Abstraction refers to the concept of hiding the complex implementation details and showing only the necessary features of an object to the outside world. It focuses on what an object does rather than how it does it.\n",
        "\n",
        "Encapsulation, on the other hand, is about bundling the data (attributes or properties) and methods (functions) that operate on the data into a single unit or class. It hides the internal state of an object from the outside world and restricts access to it through well-defined interfaces."
      ],
      "metadata": {
        "id": "52r-DhU0EMh8"
      }
    },
    {
      "cell_type": "code",
      "source": [],
      "metadata": {
        "id": "zGvArkDqDGnK"
      },
      "execution_count": null,
      "outputs": []
    },
    {
      "cell_type": "markdown",
      "source": [
        "Question 3"
      ],
      "metadata": {
        "id": "0VZJhdzjDHGW"
      }
    },
    {
      "cell_type": "markdown",
      "source": [
        "the abc module in Python stands for \"Abstract Base Classes.\" It provides infrastructure for defining abstract base classes (ABCs) in Python"
      ],
      "metadata": {
        "id": "U3Q-yL7BEc2S"
      }
    },
    {
      "cell_type": "code",
      "source": [
        "from abc import ABC, abstractmethod\n",
        "\n",
        "class Animal(ABC):\n",
        "    @abstractmethod\n",
        "    def make_sound(self):\n",
        "        pass\n",
        "\n",
        "class Dog(Animal):\n",
        "    def make_sound(self):\n",
        "        return \"Woof!\"\n",
        "\n",
        "class Cat(Animal):\n",
        "    def make_sound(self):\n",
        "        return \"Meow!\"\n",
        "\n",
        "dog = Dog()\n",
        "print(dog.make_sound())  # Output: Woof!\n",
        "\n",
        "cat = Cat()\n",
        "print(cat.make_sound())  # Output: Meow!\n"
      ],
      "metadata": {
        "id": "Vj8NcLxVDI-E"
      },
      "execution_count": null,
      "outputs": []
    },
    {
      "cell_type": "markdown",
      "source": [
        "Question 4"
      ],
      "metadata": {
        "id": "MGEK-1r5DLe_"
      }
    },
    {
      "cell_type": "markdown",
      "source": [
        "we can achieve data abstraction using encapsulation and Abstraction"
      ],
      "metadata": {
        "id": "DM9kc5bZFD2l"
      }
    },
    {
      "cell_type": "markdown",
      "source": [
        "Question 5"
      ],
      "metadata": {
        "id": "VZNZp7ZlDOOR"
      }
    },
    {
      "cell_type": "markdown",
      "source": [
        "No, you cannot create an instance of an abstract class directly. Abstract classes are designed to be incomplete, serving as blueprints for other classes to inherit from. They often contain abstract methods, which are declared but not implemented in the abstract class. These methods must be implemented by the subclasses that inherit from the abstract class."
      ],
      "metadata": {
        "id": "ALPSLRKbFgkP"
      }
    },
    {
      "cell_type": "code",
      "source": [],
      "metadata": {
        "id": "n3AAmLs4DP7N"
      },
      "execution_count": null,
      "outputs": []
    }
  ]
}